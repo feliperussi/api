{
 "cells": [
  {
   "cell_type": "code",
   "execution_count": 1,
   "metadata": {},
   "outputs": [],
   "source": [
    "import pandas as pd\n",
    "from model_gb import GradientBoostingModel\n",
    "from model_rf import RandomForestModel\n",
    "from model_emd import EMDistanceModel\n",
    "\n",
    "gb_model = GradientBoostingModel('C:/Users/felip/Downloads/api-20230308T032233Z-001/api/app/data/model_gb.pkl', 'C:/Users/felip/Downloads/api-20230308T032233Z-001/api/app/data/weights.json', 'C:/Users/felip/Downloads/api-20230308T032233Z-001/api/app/data/columns.json')\n",
    "# rf_model = RandomForestModel('app/data/model_rf.pkl', 'app/data/weights.json', 'app/data/columns.json')\n",
    "# emd_model = EMDistanceModel('app/data/weights.json', 'app/data/means_label_0.json', 'app/data/means_label_1.json')\n",
    "\n",
    "df = pd.read_csv(\"C:/Users/felip/Downloads/api-20230308T032233Z-001/api/app/data/test_set/data_test.csv\")\n",
    "\n",
    "# print(gb_model.predict(df))\n",
    "# print(rf_model.predict(df))\n",
    "# print(emd_model.predict(df))\n"
   ]
  },
  {
   "cell_type": "code",
   "execution_count": 2,
   "metadata": {},
   "outputs": [],
   "source": [
    "model = gb_model.clf"
   ]
  },
  {
   "cell_type": "code",
   "execution_count": null,
   "metadata": {},
   "outputs": [],
   "source": []
  }
 ],
 "metadata": {
  "kernelspec": {
   "display_name": "Python 3",
   "language": "python",
   "name": "python3"
  },
  "language_info": {
   "codemirror_mode": {
    "name": "ipython",
    "version": 3
   },
   "file_extension": ".py",
   "mimetype": "text/x-python",
   "name": "python",
   "nbconvert_exporter": "python",
   "pygments_lexer": "ipython3",
   "version": "3.10.9"
  }
 },
 "nbformat": 4,
 "nbformat_minor": 2
}
